{
 "cells": [
  {
   "cell_type": "markdown",
   "metadata": {},
   "source": [
    "# Part 1"
   ]
  },
  {
   "cell_type": "markdown",
   "metadata": {},
   "source": [
    "# 1: Classification: Feature Extraction + Classical Methods"
   ]
  },
  {
   "cell_type": "markdown",
   "metadata": {},
   "source": [
    "# 1.1: Explanation of Design and Implementation Choices of your Model\n",
    "\n",
    "Comparison Of Different Feature Extraction Methods And Different Algorithms\n",
    "----------------------------------------------------------------------------------------------------------------\n",
    "Initially we have started with different feature extraction techniques such as PCA, T-SNE,Isomap, LDA, LLE, Laplacian Eigenmap, etc for dimensionality reduction. Based on analysis performed we have selected PCA as best dimensionality reduction method because computational time is very less, better speed of convergence, better bias-variance trade-off when compared to different methods.  \n",
    "\n",
    "Interms of computational time, feature separability, smoothness, curvature, angle and rotation, speed of convergence PCA is the best method for this data when compared to other methods like Isomap,LLE,Laplacian Eigenmap. More the separability of classes higher will be the accuracy, performance of model. We also observed that other models are having high bias and high variance which is not good and cannot separate the classes due to overlapping. If we increase the number of components for remaining methods also we can't able to separate the claases and increase in number of components computational time is too high. Due to this we may not expect the better accuracy, overfits the model, performance, confusion matrix, smoothness for other models. Moreover, PCA compresses our data down to something that is more effectively modeled. This means that it will compress away highly correlated and colinear variables, a useful thing to do when trying to run models that would otherwise be sensitive to these data problems.\n",
    "\n",
    "Next, We have tried different algorithms such as KNN, Random Forest, Decision Tree, Gradient Boosting, Kernel SVM, LinearSVC, etc. First, We have tried all the algorithms with their respective default parameters. Based on analysis we performed Gradient boosting, KNN is taking high computational time, low speed of convergence, metrics evaluation is also not good and classification accuracy is less than 88% when compared to Kernel SVM and Random Forest. In case of decision tree computaional time is directly proportional to number of estimators and finally its not getting better results and accuracy is less than 88%. \n",
    "\n",
    "Based on the results and analysis we have done we can say that Random forest and Kernel SVM performs better for this dataset interms of computational time, classification accuracy, confusion matrix, different metrics evaluation like F1 score, ROC curve, recall, precision and error rate. In order to select the best algorithm among them we performed optimization which is hyperparameter tuning. After performing hyperparameter tuning with different parameters on various algorithms we came to know that kernel svm is the best algorithm that fits the model having less computational time, better confusion matrix, good metrics evaluation when compared to other algorithms, better results and achieving a classification accuracy of almost 90%.\n",
    "Finally to imrove the performance and to get accuracy of model, we have selected Bagging classifier as ensemble technique.\n",
    "\n",
    "\n",
    "Why PCA\n",
    "-----------------------\n",
    "For feature extraction, we have selected PCA as best dimensionality reduction method because computational time is very less, better speed of convergence, better bias-variance trade-off, smoothness, curvature, angle and rotation when compared to different methods like T-SNE, Isomap, LDA, LLE, Laplacian Eigenmap, etc. Moreover, PCA compresses your data down to something that is more effectively modeled. This means that it will compress away highly correlated and colinear variables, a useful thing to do when trying to run models that would otherwise be sensitive to these data problems. We aslo selected ncomponents=20 because we are getting better accuracy, good speed of execution.\n",
    "\n",
    "Selected Model and about its parameters\n",
    "--------------------------------------------------\n",
    "Now we need to decrease the error rate and increase the accuracy of kernel svm model. As we all know that the parameter C in SVM classifier defines the penalty parameter of the error term. C determines the influence of the misclassification on the objective function. In order to get the better accuracy,less error rate and to select the best regularization we had done hyperparameter tuning on SVM kernel. \n",
    "\n",
    "We have took C value as 13 beacuase From the graph we could see as the C-value goes on decreasing the missclassification is increasing and accuracy decreasing. When C-value goes on increasing the missclassification is very less and getting better accuracy. So, choosing too high and too small value of C is not a good idea and we need to choose a best value of C in between them and thus we have selected 13 as best parameter. We have selected gamma as 'Auto' in order to use 1 / nfeatures. If gamma is 'scale' we observe far influence of a single training and there is no improvement in accuracy. As our label is multi class we have selected decision function shape as one-vs-one (‘ovo’) which is always used as multi-class strategy.\n",
    "\n",
    "Further to improve the accuracy of model we have used Baggingclassifier as ensemble technique. In that we have selected base estimator as kernel SVM as it is the best model with good results like less computational time, better confusion matrix, better metrics evaluation, good speed of convergence. We took number of base estimators in the ensemble as 20(nestimators=20), number of features to draw from X to train each base estimatoras max samples=0.9, max features=0.8 such that the computational time get decreases, speed of model and efficiency of model gets increased to maximum using this technique.\n"
   ]
  },
  {
   "cell_type": "markdown",
   "metadata": {},
   "source": [
    "# 1.2: Implementation of your Design Choices \n",
    "Libraries used\n",
    "\n",
    "•\tPandas was used to handle the Data frames and to make the statistics calculations like mean, standard deviation, variance, skewness and mode.\n",
    "\n",
    "•\tNumPy was used to handle arrays and to perform different calculations.\n",
    "\n",
    "•\tScikit learn an open-source machine learning library for Python and contains a helpful pre-processing module that can help us do the data pre-processing, PCA, LDA, Manifold Learning methods, accuracy, data splitting, solving algorithms.\n",
    "\n",
    "•\tSeaborn, MATLAB was used to build the subplots, plots.\n",
    "\n",
    "•\tMath is for all mathematical calculations\n",
    "\n",
    "•\tTimeit is used to measure execution time of small code snippets\n",
    "\n",
    "•\tAll the classification libraries are imported\n",
    "\n",
    "•\tModelling helpers for calculating scores and metrics of the model developed\n",
    "\n",
    "•\tPre-processing libraries are used for normalizing the data\n",
    "\n",
    "•\tAll the non-linear and linear feature extraction techniques are used for feature reduction\n"
   ]
  },
  {
   "cell_type": "code",
   "execution_count": 1,
   "metadata": {},
   "outputs": [],
   "source": [
    "#Importing Libraries\n",
    "\n",
    "# Classification\n",
    "from sklearn.tree import DecisionTreeClassifier\n",
    "from sklearn.linear_model import LogisticRegression\n",
    "from sklearn.neighbors import KNeighborsClassifier\n",
    "from sklearn.svm import SVC, LinearSVC\n",
    "from sklearn import svm\n",
    "from sklearn.ensemble import RandomForestClassifier , GradientBoostingClassifier\n",
    "from sklearn.discriminant_analysis import LinearDiscriminantAnalysis as LDA\n",
    "from sklearn.metrics import roc_curve\n",
    "from sklearn.metrics import roc_auc_score\n",
    "\n",
    "# Modelling Helpers :\n",
    "from sklearn.model_selection import train_test_split\n",
    "from sklearn.metrics import confusion_matrix, classification_report\n",
    "from sklearn.feature_selection import RFECV\n",
    "from sklearn.model_selection import GridSearchCV , KFold , cross_val_score\n",
    "\n",
    "#preprocessing :\n",
    "from sklearn.preprocessing import MinMaxScaler , StandardScaler, LabelEncoder\n",
    "\n",
    "#evaluation metrics :\n",
    "# Classification\n",
    "from sklearn.metrics import accuracy_score,precision_score,recall_score,f1_score  \n",
    "\n",
    "#Feature Extraction :\n",
    "from sklearn.decomposition import PCA\n",
    "from sklearn.manifold import Isomap\n",
    "from sklearn.decomposition import KernelPCA\n",
    "from sklearn.manifold import LocallyLinearEmbedding\n",
    "from sklearn.manifold import SpectralEmbedding\n",
    "from sklearn.manifold import TSNE\n",
    "\n",
    "\n",
    "# Visualisation\n",
    "%matplotlib inline\n",
    "import matplotlib as mpl\n",
    "import matplotlib.pyplot as plt\n",
    "import numpy as np\n",
    "import pandas as pd\n",
    "import seaborn as sns\n",
    "\n",
    "# Configure visualisations\n",
    "%matplotlib inline\n",
    "mpl.style.use( 'ggplot' )\n",
    "plt.style.use('fivethirtyeight')\n",
    "sns.set(context=\"notebook\", palette=\"dark\", style = 'whitegrid' , color_codes=True)"
   ]
  },
  {
   "cell_type": "markdown",
   "metadata": {},
   "source": [
    "Fashion-MNIST is a dataset of Zalando's article images consisting of a training set of 60,000 examples and a test set of 10,000 examples.\n",
    "\n",
    "Each example is a 28x28 grayscale image, associated with a label of 5 classes."
   ]
  },
  {
   "cell_type": "code",
   "execution_count": 2,
   "metadata": {},
   "outputs": [],
   "source": [
    "#Loading The dataset\n",
    "train_data = pd.read_csv('Fashion_Train.csv')\n",
    "test_data = pd.read_csv('Fashion_Test.csv')\n"
   ]
  },
  {
   "cell_type": "code",
   "execution_count": 3,
   "metadata": {},
   "outputs": [
    {
     "name": "stdout",
     "output_type": "stream",
     "text": [
      "Missing Data in training data: False\n",
      "Missing Data in testing data: False\n"
     ]
    }
   ],
   "source": [
    "#Check For Missing Values\n",
    "print(\"Missing Data in training data:\", train_data.isnull().values.any())\n",
    "print(\"Missing Data in testing data:\", test_data.isnull().values.any())"
   ]
  },
  {
   "cell_type": "code",
   "execution_count": 4,
   "metadata": {},
   "outputs": [],
   "source": [
    "#Removing Label and Id From Train Data\n",
    "labels = train_data['Label']\n",
    "Id = train_data['Id']\n",
    "train_data.drop(columns = ['Id','Label'], inplace = True)\n",
    "\n"
   ]
  },
  {
   "cell_type": "code",
   "execution_count": 5,
   "metadata": {},
   "outputs": [],
   "source": [
    "#Removing Id From Test Data\n",
    "ID = test_data['Id']\n",
    "test_data.drop(columns = ['Id'], inplace = True)\n"
   ]
  },
  {
   "cell_type": "markdown",
   "metadata": {},
   "source": [
    "Normalization is done as below:\n",
    "\n",
    "x = (x - min) / (max - min) ; Here min=0 and max=255"
   ]
  },
  {
   "cell_type": "code",
   "execution_count": 6,
   "metadata": {},
   "outputs": [
    {
     "name": "stdout",
     "output_type": "stream",
     "text": [
      "(60000, 784)\n",
      "(10000, 784)\n"
     ]
    }
   ],
   "source": [
    "#casting into double/float from int before you doing scaling. You will most likely generate floating point numbers.\n",
    "# If it been int, the values will be truncated to zero.\n",
    "#scale the data by dividing by 255, as pixels range between 0-255\n",
    "train_data = train_data.astype(\"float32\")/255\n",
    "test_data = test_data.astype(\"float32\")/255\n",
    "print(train_data.shape)\n",
    "print(test_data.shape)"
   ]
  },
  {
   "cell_type": "markdown",
   "metadata": {},
   "source": [
    "Spliting the training data into Train and Validation Set. Train set is used for Training the model and Validation set is used for Evaluating our Model's Performance on the Dataset. Random seed is for reproducibility."
   ]
  },
  {
   "cell_type": "code",
   "execution_count": 7,
   "metadata": {},
   "outputs": [
    {
     "name": "stdout",
     "output_type": "stream",
     "text": [
      "(54000, 784)\n",
      "(6000, 784)\n"
     ]
    }
   ],
   "source": [
    "#Splitting dataset into train-90% and test-10%\n",
    "seed = 66\n",
    "np.random.seed(seed)\n",
    "X_train, X_test, Y_train, Y_test = train_test_split(train_data, labels, test_size=0.1, random_state = seed)\n",
    "print(X_train.shape)\n",
    "print(X_test.shape)"
   ]
  },
  {
   "cell_type": "markdown",
   "metadata": {},
   "source": [
    "For feature extraction, We have selected PCA as best dimensionality reduction method because computational time is very less, better speed of convergence, better bias-variance trade-off, smoothness, curvature, angle and rotation when compared to different methods like T-SNE, Isomap, LDA, LLE, Laplacian Eigenmap, etc. Moreover, PCA compresses your data down to something that is more effectively modeled. This means that it will compress away highly correlated and colinear variables, a useful thing to do when trying to run models that would otherwise be sensitive to these data problems. we have used components as 20 thus the shape of training and validation data is reduced to 60000x20 and 10000x20 which consumes less computation time and more precise results"
   ]
  },
  {
   "cell_type": "code",
   "execution_count": 8,
   "metadata": {},
   "outputs": [
    {
     "name": "stdout",
     "output_type": "stream",
     "text": [
      "(10000, 20)\n",
      "(54000, 20)\n",
      "(6000, 20)\n"
     ]
    }
   ],
   "source": [
    "# Fitting PCA on train data and transform test data\n",
    "\n",
    "pca = PCA(n_components = 20)\n",
    "X_train = pca.fit_transform(X_train)\n",
    "X_test = pca.transform(X_test)\n",
    "test_data = pca.transform(test_data)\n",
    "print(test_data.shape)\n",
    "print(X_train.shape)\n",
    "print(X_test.shape)"
   ]
  },
  {
   "cell_type": "markdown",
   "metadata": {},
   "source": [
    "All the Classifier with default parameters are represented below and the respective accuracies are the respective metrics are displayed below."
   ]
  },
  {
   "cell_type": "code",
   "execution_count": 9,
   "metadata": {},
   "outputs": [],
   "source": [
    "from sklearn.ensemble import GradientBoostingClassifier\n",
    "classifiers=[]\n",
    "model1 = KNeighborsClassifier()\n",
    "classifiers.append(model1)\n",
    "model2 = svm.SVC()\n",
    "classifiers.append(model2)\n",
    "model3 = DecisionTreeClassifier()\n",
    "classifiers.append(model3)\n",
    "model4 = RandomForestClassifier()\n",
    "classifiers.append(model4)\n",
    "model5=GradientBoostingClassifier()\n",
    "classifiers.append(model5)"
   ]
  },
  {
   "cell_type": "code",
   "execution_count": 10,
   "metadata": {},
   "outputs": [
    {
     "name": "stdout",
     "output_type": "stream",
     "text": [
      "Accuracy of KNeighborsClassifier(algorithm='auto', leaf_size=30, metric='minkowski',\n",
      "                     metric_params=None, n_jobs=None, n_neighbors=5, p=2,\n",
      "                     weights='uniform') is 0.8625\n",
      "Confusion Matrix of KNeighborsClassifier(algorithm='auto', leaf_size=30, metric='minkowski',\n",
      "                     metric_params=None, n_jobs=None, n_neighbors=5, p=2,\n",
      "                     weights='uniform') is [[1109   44    7    1    2]\n",
      " [  59 1052   77   23    3]\n",
      " [  43  101  915  109   20]\n",
      " [   0   32  110 1006   78]\n",
      " [   3    5   29   79 1093]]\n",
      "              precision    recall  f1-score   support\n",
      "\n",
      "           0       0.95      0.91      0.93      1214\n",
      "           1       0.87      0.85      0.86      1234\n",
      "           2       0.77      0.80      0.79      1138\n",
      "           3       0.82      0.83      0.82      1218\n",
      "           4       0.90      0.91      0.91      1196\n",
      "\n",
      "    accuracy                           0.86      6000\n",
      "   macro avg       0.86      0.86      0.86      6000\n",
      "weighted avg       0.86      0.86      0.86      6000\n",
      "\n",
      "Accuracy of SVC(C=1.0, break_ties=False, cache_size=200, class_weight=None, coef0=0.0,\n",
      "    decision_function_shape='ovr', degree=3, gamma='scale', kernel='rbf',\n",
      "    max_iter=-1, probability=False, random_state=None, shrinking=True,\n",
      "    tol=0.001, verbose=False) is 0.8675\n",
      "Confusion Matrix of SVC(C=1.0, break_ties=False, cache_size=200, class_weight=None, coef0=0.0,\n",
      "    decision_function_shape='ovr', degree=3, gamma='scale', kernel='rbf',\n",
      "    max_iter=-1, probability=False, random_state=None, shrinking=True,\n",
      "    tol=0.001, verbose=False) is [[1083   65   14    0    1]\n",
      " [  62 1046   75   25    6]\n",
      " [  34   93  937  102   22]\n",
      " [   1   32  103 1028   62]\n",
      " [   1    8   22   67 1111]]\n",
      "              precision    recall  f1-score   support\n",
      "\n",
      "           0       0.93      0.92      0.92      1181\n",
      "           1       0.86      0.84      0.85      1244\n",
      "           2       0.79      0.81      0.80      1151\n",
      "           3       0.84      0.84      0.84      1222\n",
      "           4       0.92      0.92      0.92      1202\n",
      "\n",
      "    accuracy                           0.87      6000\n",
      "   macro avg       0.87      0.87      0.87      6000\n",
      "weighted avg       0.87      0.87      0.87      6000\n",
      "\n",
      "Accuracy of DecisionTreeClassifier(ccp_alpha=0.0, class_weight=None, criterion='gini',\n",
      "                       max_depth=None, max_features=None, max_leaf_nodes=None,\n",
      "                       min_impurity_decrease=0.0, min_impurity_split=None,\n",
      "                       min_samples_leaf=1, min_samples_split=2,\n",
      "                       min_weight_fraction_leaf=0.0, presort='deprecated',\n",
      "                       random_state=None, splitter='best') is 0.8103333333333333\n",
      "Confusion Matrix of DecisionTreeClassifier(ccp_alpha=0.0, class_weight=None, criterion='gini',\n",
      "                       max_depth=None, max_features=None, max_leaf_nodes=None,\n",
      "                       min_impurity_decrease=0.0, min_impurity_split=None,\n",
      "                       min_samples_leaf=1, min_samples_split=2,\n",
      "                       min_weight_fraction_leaf=0.0, presort='deprecated',\n",
      "                       random_state=None, splitter='best') is [[1033   78   44    2    6]\n",
      " [  66  987  126   27    8]\n",
      " [  43  127  855  128   35]\n",
      " [   4   33  125  957  107]\n",
      " [   1   19   49  110 1030]]\n",
      "              precision    recall  f1-score   support\n",
      "\n",
      "           0       0.89      0.90      0.89      1147\n",
      "           1       0.81      0.79      0.80      1244\n",
      "           2       0.72      0.71      0.72      1199\n",
      "           3       0.78      0.78      0.78      1224\n",
      "           4       0.85      0.87      0.86      1186\n",
      "\n",
      "    accuracy                           0.81      6000\n",
      "   macro avg       0.81      0.81      0.81      6000\n",
      "weighted avg       0.81      0.81      0.81      6000\n",
      "\n",
      "Accuracy of RandomForestClassifier(bootstrap=True, ccp_alpha=0.0, class_weight=None,\n",
      "                       criterion='gini', max_depth=None, max_features='auto',\n",
      "                       max_leaf_nodes=None, max_samples=None,\n",
      "                       min_impurity_decrease=0.0, min_impurity_split=None,\n",
      "                       min_samples_leaf=1, min_samples_split=2,\n",
      "                       min_weight_fraction_leaf=0.0, n_estimators=100,\n",
      "                       n_jobs=None, oob_score=False, random_state=None,\n",
      "                       verbose=0, warm_start=False) is 0.8798333333333334\n",
      "Confusion Matrix of RandomForestClassifier(bootstrap=True, ccp_alpha=0.0, class_weight=None,\n",
      "                       criterion='gini', max_depth=None, max_features='auto',\n",
      "                       max_leaf_nodes=None, max_samples=None,\n",
      "                       min_impurity_decrease=0.0, min_impurity_split=None,\n",
      "                       min_samples_leaf=1, min_samples_split=2,\n",
      "                       min_weight_fraction_leaf=0.0, n_estimators=100,\n",
      "                       n_jobs=None, oob_score=False, random_state=None,\n",
      "                       verbose=0, warm_start=False) is [[1093   53   16    0    1]\n",
      " [  36 1067   80   25    6]\n",
      " [  20   86  968   86   28]\n",
      " [   2   23   95 1039   67]\n",
      " [   1    8   23   65 1112]]\n",
      "              precision    recall  f1-score   support\n",
      "\n",
      "           0       0.94      0.95      0.94      1152\n",
      "           1       0.88      0.86      0.87      1237\n",
      "           2       0.81      0.82      0.82      1182\n",
      "           3       0.85      0.86      0.85      1215\n",
      "           4       0.92      0.92      0.92      1214\n",
      "\n",
      "    accuracy                           0.88      6000\n",
      "   macro avg       0.88      0.88      0.88      6000\n",
      "weighted avg       0.88      0.88      0.88      6000\n",
      "\n",
      "Accuracy of GradientBoostingClassifier(ccp_alpha=0.0, criterion='friedman_mse', init=None,\n",
      "                           learning_rate=0.1, loss='deviance', max_depth=3,\n",
      "                           max_features=None, max_leaf_nodes=None,\n",
      "                           min_impurity_decrease=0.0, min_impurity_split=None,\n",
      "                           min_samples_leaf=1, min_samples_split=2,\n",
      "                           min_weight_fraction_leaf=0.0, n_estimators=100,\n",
      "                           n_iter_no_change=None, presort='deprecated',\n",
      "                           random_state=None, subsample=1.0, tol=0.0001,\n",
      "                           validation_fraction=0.1, verbose=0,\n",
      "                           warm_start=False) is 0.8226666666666667\n",
      "Confusion Matrix of GradientBoostingClassifier(ccp_alpha=0.0, criterion='friedman_mse', init=None,\n",
      "                           learning_rate=0.1, loss='deviance', max_depth=3,\n",
      "                           max_features=None, max_leaf_nodes=None,\n",
      "                           min_impurity_decrease=0.0, min_impurity_split=None,\n",
      "                           min_samples_leaf=1, min_samples_split=2,\n",
      "                           min_weight_fraction_leaf=0.0, n_estimators=100,\n",
      "                           n_iter_no_change=None, presort='deprecated',\n",
      "                           random_state=None, subsample=1.0, tol=0.0001,\n",
      "                           validation_fraction=0.1, verbose=0,\n",
      "                           warm_start=False) is [[1060   75   27    0    1]\n",
      " [  75  984  125   23    7]\n",
      " [  48  116  874  122   28]\n",
      " [   2   31  146  972   75]\n",
      " [   7   17   29  110 1046]]\n",
      "              precision    recall  f1-score   support\n",
      "\n",
      "           0       0.91      0.89      0.90      1192\n",
      "           1       0.81      0.80      0.81      1223\n",
      "           2       0.74      0.73      0.73      1201\n",
      "           3       0.79      0.79      0.79      1227\n",
      "           4       0.87      0.90      0.88      1157\n",
      "\n",
      "    accuracy                           0.82      6000\n",
      "   macro avg       0.82      0.82      0.82      6000\n",
      "weighted avg       0.82      0.82      0.82      6000\n",
      "\n"
     ]
    }
   ],
   "source": [
    "from sklearn.metrics import accuracy_score, confusion_matrix\n",
    "from sklearn import metrics\n",
    "acc_list=[]\n",
    "precision_list=[]\n",
    "recall_list=[]\n",
    "\n",
    "for clf in classifiers:\n",
    "    clf.fit(X_train, Y_train)\n",
    "    y_pred= clf.predict(X_test)\n",
    "    acc = accuracy_score(Y_test, y_pred)\n",
    "    acc_list.append(acc)\n",
    "    print(\"Accuracy of %s is %s\"%(clf, acc))\n",
    "    cm = confusion_matrix(Y_test, y_pred)\n",
    "    print(\"Confusion Matrix of %s is %s\"%(clf, cm))\n",
    "    print(metrics.classification_report(y_pred, Y_test))\n",
    "    \n"
   ]
  },
  {
   "cell_type": "code",
   "execution_count": 11,
   "metadata": {},
   "outputs": [
    {
     "data": {
      "image/png": "[encoded data removed]",
      "text/plain": [
       "<Figure size 432x288 with 1 Axes>"
      ]
     },
     "metadata": {},
     "output_type": "display_data"
    }
   ],
   "source": [
    "\n",
    "classifier=pd.DataFrame(classifiers,columns=['Classifiers'])\n",
    "classifier.insert(1,\"Accuracy\",acc_list)\n",
    "a=classifier.plot(kind='barh')\n",
    "a.set_yticklabels(['KNN','Kernel SVM','Decision Tree','Random Forest','Gradient Tree Boosting'])\n",
    "a.set_title('Accuracy vs Classifiers')\n",
    "a.set_xlabel('Accuracy')\n",
    "a.set_ylabel('Classfiers')\n",
    "\n",
    "plt.show()"
   ]
  },
  {
   "cell_type": "markdown",
   "metadata": {},
   "source": [
    "The above bar graph represents different classifiers with accuracies where the Kernel SVM and Random Forest has the best accuracies. From the above results and bar graph we can say that Gradient boosting is taking very high computational time for execution and less classification accuracy of 82%, less f1score, precision, recall when compared to Random Forest, Decision Tree, Kernel SVM and KNN. Next Decision Tree and KNN got accuracy of morethan 80% but there is a drawback interms of computational time, confusion matrix, different metrics when compared to Random Forest and Kernel SVM. Finally For Random Forest and Kernel SVM, We got highest accuracies of more than 85% and taking less computational time, better different evaluation metrics when compared to other algorithms."
   ]
  },
  {
   "cell_type": "markdown",
   "metadata": {},
   "source": [
    "## After hyperparameter tuning and the results we got from both Random Forest and Kernel SVM, We have selected Kernel SVM best fit the model interms of less computational time, ROC curves, high classification accuracies, different metrics evaluation like confusion matrix, f1score, precision, recall, less error rate when compared to Random Forest. However we did the ROC curves for both Randon Forest and Kernel SVM  are shown below."
   ]
  },
  {
   "cell_type": "markdown",
   "metadata": {},
   "source": [
    "## First We Are Performing Hyperparameter Tuning And Plotting ROC Curve FOR Random Forest"
   ]
  },
  {
   "cell_type": "code",
   "execution_count": 12,
   "metadata": {},
   "outputs": [
    {
     "name": "stdout",
     "output_type": "stream",
     "text": [
      "Accuracy of Random Forest:%s 0.8743333333333333\n"
     ]
    }
   ],
   "source": [
    "#considering different parameters of Random Forest Classifers\n",
    "model = RandomForestClassifier(criterion='entropy' ,max_depth=100, n_estimators=50)\n",
    "model.fit(X_train, Y_train)\n",
    "y_pred_rf= model.predict(X_test)\n",
    "acc_rf = accuracy_score(Y_test, y_pred_rf)\n",
    "y_pred_rf.shape\n",
    "print(\"Accuracy of Random Forest : \",(acc_rf))"
   ]
  },
  {
   "cell_type": "code",
   "execution_count": 13,
   "metadata": {},
   "outputs": [
    {
     "name": "stderr",
     "output_type": "stream",
     "text": [
      "<ipython-input-13-e45dfde1fed2>:30: DeprecationWarning: scipy.interp is deprecated and will be removed in SciPy 2.0.0, use numpy.interp instead\n",
      "  mean_tpr += interp(all_fpr, fpr[i], tpr[i])\n"
     ]
    },
    {
     "data": {
      "image/png": "[encoded data removed]",
      "text/plain": [
       "<Figure size 432x288 with 1 Axes>"
      ]
     },
     "metadata": {},
     "output_type": "display_data"
    }
   ],
   "source": [
    "from sklearn.preprocessing import label_binarize\n",
    "#Randomforest Classifier\n",
    "model = RandomForestClassifier(criterion='entropy' ,max_depth=100, n_estimators=50)\n",
    "model.fit(X_train, Y_train)\n",
    "y_pred_rf_roc= model.predict_proba(X_test)\n",
    "#Label = label_binarize(Label)\n",
    "n_classes = 5\n",
    "n_classes\n",
    "#plotting ROC curve(Random Forest)\n",
    "from sklearn.metrics import roc_curve, auc\n",
    "from scipy import interp\n",
    "from sklearn.metrics import roc_auc_score\n",
    "# Compute ROC curve and ROC area for each class\n",
    "fpr = dict()\n",
    "\n",
    "tpr = dict()\n",
    "\n",
    "roc_auc = dict()\n",
    "\n",
    "for i in range(n_classes):\n",
    "    fpr[i], tpr[i], _ = roc_curve(Y_test, y_pred_rf_roc[:,i], pos_label = 1)\n",
    "    roc_auc[i] = auc(fpr[i], tpr[i])\n",
    "# First aggregate all false positive rates\n",
    "all_fpr = np.unique(np.concatenate([fpr[i] for i in range(n_classes)]))\n",
    "\n",
    "\n",
    "# Then interpolate all ROC curves at this points\n",
    "mean_tpr = np.zeros_like(all_fpr)\n",
    "for i in range(n_classes):\n",
    "    mean_tpr += interp(all_fpr, fpr[i], tpr[i])\n",
    "\n",
    "# Finally average it and compute AUC\n",
    "mean_tpr /= n_classes\n",
    "\n",
    "fpr[\"weighted\"] = all_fpr\n",
    "tpr[\"weighted\"] = mean_tpr\n",
    "roc_auc[\"weighted\"] = auc(fpr[\"weighted\"], tpr[\"weighted\"])\n",
    "\n",
    "#plotting ROc for all classes\n",
    "\n",
    "colors = ['aqua', 'darkorange', 'cornflowerblue', 'black','red']\n",
    "for i, color in zip(range(n_classes), colors):\n",
    "    plt.plot(fpr[i], tpr[i], color=color,\n",
    "             label='ROC curve of class {0} (area = {1:0.2f})'\n",
    "             ''.format(i, roc_auc[i]))\n",
    "\n",
    "plt.plot([0, 1], [0, 1])\n",
    "plt.xlim([0.0, 1.0])\n",
    "plt.ylim([0.0, 1.05])\n",
    "plt.xlabel('False Positive Rate')\n",
    "plt.ylabel('True Positive Rate')\n",
    "plt.title('ROC for random forest')\n",
    "plt.legend(loc=\"lower right\")\n",
    "plt.show()"
   ]
  },
  {
   "cell_type": "markdown",
   "metadata": {},
   "source": [
    "The above graph is plotted for multiclass as we have 5 classes, we have individual ROC curve for all the 5 classes, the straight line represents AUC of 0.5, When there are more than two classes, it is extremely difficult, and usually impossible, to provide realistic assessments of the relative severity of the different kinds of misclassification which can arise. This is equivalent to the probability that a randomly chosen member of one class has a smaller estimated probability of belonging to the other class than has a randomly chosen member of the other class, and so is a natural measure of separability between the two estimated probability distributions thus for class1 has the highest AUC value (0.98) and for class4 and class3 has the least AUC value. AUC near to the 0 which means it has worst measure of separability."
   ]
  },
  {
   "cell_type": "markdown",
   "metadata": {},
   "source": [
    "## Hyperparameter Tuning And Selecting Best C Value For Kernel SVM"
   ]
  },
  {
   "cell_type": "code",
   "execution_count": 14,
   "metadata": {},
   "outputs": [],
   "source": [
    "#considering SVM for different C values\n",
    "C_value=range(1,20)\n",
    "acc = []\n",
    "for i in C_value:\n",
    "    b=svm.SVC(C=i, kernel='rbf',gamma='auto', decision_function_shape='ovo')\n",
    "    b.fit(X_train, Y_train)\n",
    "    y_pred_model= b.predict(X_test)\n",
    "    acc_1 = accuracy_score(Y_test, y_pred_model)\n",
    "    acc.append(acc_1)\n",
    "    \n"
   ]
  },
  {
   "cell_type": "code",
   "execution_count": 15,
   "metadata": {},
   "outputs": [
    {
     "data": {
      "text/plain": [
       "Text(0, 0.5, 'Accuracy')"
      ]
     },
     "execution_count": 15,
     "metadata": {},
     "output_type": "execute_result"
    },
    {
     "data": {
      "image/png": "[encoded data removed]",
      "text/plain": [
       "<Figure size 432x288 with 1 Axes>"
      ]
     },
     "metadata": {},
     "output_type": "display_data"
    }
   ],
   "source": [
    "df= pd.DataFrame(acc,C_value,columns = ['Accuracy scores'])\n",
    "df = df.rename_axis('C_value')\n",
    "#Plotting graph for above tabular data\n",
    "df.plot(color='red')\n",
    "\n",
    "plt.title('Accuracy vs C values')\n",
    "plt.xlabel('C- values')\n",
    "plt.ylabel('Accuracy')\n"
   ]
  },
  {
   "cell_type": "markdown",
   "metadata": {},
   "source": [
    "From the above graph we can say increasing the C-values results in fluctuations and at C=13 we got maximum accuracy. Also we observed as the C-value goes on decreasing the missclassification is increasing and accuracy decreasing. When C-value goes on increasing the missclassification is very less and getting better accuracy. In SVM, large C-value results in small margin and small C-value results in large margin. So, choosing too high and too small value of C is not a good idea and we need to choose a best value of C in between them. So, we have selected C=13."
   ]
  },
  {
   "cell_type": "markdown",
   "metadata": {},
   "source": [
    "## Fitting Kernel SVM In Bagging Classifier. Claculating The Run Time And Evaluating Test Data"
   ]
  },
  {
   "cell_type": "code",
   "execution_count": 16,
   "metadata": {},
   "outputs": [
    {
     "name": "stdout",
     "output_type": "stream",
     "text": [
      "Accuracy of Kernel SVM is :  0.901\n",
      "time taken to execute training data in seconds: 451.37093892400003\n"
     ]
    }
   ],
   "source": [
    "#Accuracy on training data(SVM)\n",
    "#Computational time(Start)\n",
    "import timeit\n",
    "start = timeit.default_timer()\n",
    "from sklearn.ensemble import BaggingClassifier\n",
    "clf1=SVC(C=13,kernel='rbf',gamma='auto', decision_function_shape='ovo')\n",
    "bagging1 = BaggingClassifier(base_estimator=clf1, n_estimators=20, max_samples=0.9, max_features=0.8)\n",
    "bagging1.fit(X_train, Y_train)\n",
    "Y_pred_svm = bagging1.predict(X_test)\n",
    "acc_svm = accuracy_score(Y_test, Y_pred_svm)\n",
    "print(\"Accuracy of Kernel SVM is : \",(acc_svm))\n",
    "stop = timeit.default_timer()\n",
    "execution_time_traindata = stop - start\n",
    "print('time taken to execute training data in seconds:', execution_time_traindata)"
   ]
  },
  {
   "cell_type": "code",
   "execution_count": 17,
   "metadata": {},
   "outputs": [
    {
     "name": "stdout",
     "output_type": "stream",
     "text": [
      "(10000,)\n",
      "time taken to execute testing data in seconds: 537.7422943209999\n"
     ]
    }
   ],
   "source": [
    "#predict on test data(SVM)\n",
    "start = timeit.default_timer()\n",
    "clf1=SVC(C=13,kernel='rbf',gamma='auto', decision_function_shape='ovo')\n",
    "bagging1 = BaggingClassifier(base_estimator=clf1, n_estimators=20, max_samples=0.9, max_features=0.8)\n",
    "bagging1.fit(X_train, Y_train)\n",
    "Y_Data = bagging1.predict(test_data)\n",
    "print(Y_Data.shape)\n",
    "\n",
    "stop = timeit.default_timer()\n",
    "execution_time_testdata = stop - start\n",
    "print('time taken to execute testing data in seconds:', execution_time_testdata)"
   ]
  },
  {
   "cell_type": "markdown",
   "metadata": {},
   "source": [
    "## Plotting ROC Curve For Kernel SVM"
   ]
  },
  {
   "cell_type": "code",
   "execution_count": 18,
   "metadata": {},
   "outputs": [
    {
     "data": {
      "text/plain": [
       "5"
      ]
     },
     "execution_count": 18,
     "metadata": {},
     "output_type": "execute_result"
    }
   ],
   "source": [
    " from sklearn.ensemble import BaggingClassifier\n",
    "clf1=SVC(C=13,kernel='rbf',gamma='auto', decision_function_shape='ovo')\n",
    "bagging1 = BaggingClassifier(base_estimator=clf1, n_estimators=20, max_samples=0.9, max_features=0.8)\n",
    "bagging1.fit(X_train, Y_train)\n",
    "Y_pred_svm_roc = bagging1.predict_proba(X_test)\n",
    "from sklearn.preprocessing import label_binarize\n",
    "#Label = label_binarize(Label)\n",
    "n_classes = 5\n",
    "n_classes"
   ]
  },
  {
   "cell_type": "code",
   "execution_count": 19,
   "metadata": {},
   "outputs": [],
   "source": [
    "#plotting ROC curve\n",
    "from sklearn.metrics import roc_curve, auc\n",
    "from scipy import interp\n",
    "from sklearn.metrics import roc_auc_score\n",
    "# Compute ROC curve and ROC area for each class\n",
    "fpr = dict()\n",
    "\n",
    "tpr = dict()\n",
    "\n",
    "roc_auc = dict()\n",
    "\n",
    "for i in range(n_classes):\n",
    "    fpr[i], tpr[i], _ = roc_curve(Y_test, Y_pred_svm_roc[:,i], pos_label = 1)\n",
    "    roc_auc[i] = auc(fpr[i], tpr[i])\n"
   ]
  },
  {
   "cell_type": "code",
   "execution_count": 20,
   "metadata": {},
   "outputs": [
    {
     "name": "stderr",
     "output_type": "stream",
     "text": [
      "<ipython-input-20-68424654f033>:8: DeprecationWarning: scipy.interp is deprecated and will be removed in SciPy 2.0.0, use numpy.interp instead\n",
      "  mean_tpr += interp(all_fpr, fpr[i], tpr[i])\n"
     ]
    },
    {
     "data": {
      "image/png": "[encoded data removed]",
      "text/plain": [
       "<Figure size 432x288 with 1 Axes>"
      ]
     },
     "metadata": {},
     "output_type": "display_data"
    }
   ],
   "source": [
    "# First aggregate all false positive rates\n",
    "all_fpr = np.unique(np.concatenate([fpr[i] for i in range(n_classes)]))\n",
    "\n",
    "\n",
    "# Then interpolate all ROC curves at this points\n",
    "mean_tpr = np.zeros_like(all_fpr)\n",
    "for i in range(n_classes):\n",
    "    mean_tpr += interp(all_fpr, fpr[i], tpr[i])\n",
    "\n",
    "# Finally average it and compute AUC\n",
    "mean_tpr /= n_classes\n",
    "\n",
    "fpr[\"weighted\"] = all_fpr\n",
    "tpr[\"weighted\"] = mean_tpr\n",
    "roc_auc[\"weighted\"] = auc(fpr[\"weighted\"], tpr[\"weighted\"])\n",
    "\n",
    "#plotting ROc for all classes\n",
    "\n",
    "colors = ['aqua', 'darkorange', 'cornflowerblue', 'black','red']\n",
    "for i, color in zip(range(n_classes), colors):\n",
    "    plt.plot(fpr[i], tpr[i], color=color,\n",
    "             label='ROC curve of class {0} (area = {1:0.2f})'\n",
    "             ''.format(i, roc_auc[i]))\n",
    "\n",
    "plt.plot([0, 1], [0, 1])\n",
    "plt.xlim([0.0, 1.0])\n",
    "plt.ylim([0.0, 1.05])\n",
    "plt.xlabel('False Positive Rate')\n",
    "plt.ylabel('True Positive Rate')\n",
    "plt.title('ROC for SVM')\n",
    "plt.legend(loc=\"lower right\")\n",
    "plt.show()"
   ]
  },
  {
   "cell_type": "markdown",
   "metadata": {},
   "source": [
    "The above graph is plotted for multiclass as we have 5 classes, we have individual ROC curve for all the 5 classes, the straight line represents AUC of 0.5, When there are more than two classes, it is extremely difficult, and usually impossible, to provide realistic assessments of the relative severity of the different kinds of misclassification which can arise. This is equivalent to the probability that a randomly chosen member of one class has a smaller estimated probability of belonging to the other class than has a randomly chosen member of the other class, and so is a natural measure of separability between the two estimated probability distributions. Class1 has the highest AUC of 0.98 and for other classes the AUC is around 0.35 to 0.5 which is much better results when compared with the ROC curve of Random Forest and as senstivity and specificity are inversely proportional by comparing each classes of Kernal SVM with each class of Random Forest we can say that Kernal SVM classes have more specificity and less senstivity when compared with Random forest."
   ]
  },
  {
   "cell_type": "markdown",
   "metadata": {},
   "source": [
    "# 1.3 Kaggle Competation"
   ]
  },
  {
   "cell_type": "code",
   "execution_count": 21,
   "metadata": {},
   "outputs": [],
   "source": [
    "Final_res = pd.DataFrame(ID)\n",
    "Final_res.columns = ['Id']\n",
    "Final_res.insert(1,'Label',Y_Data)\n",
    "Final_res.head()\n",
    "#Kaggle Competation\n",
    "Final_res.to_csv(\"PCA60000x20_Final_Bagging.csv\",index=False)"
   ]
  },
  {
   "cell_type": "markdown",
   "metadata": {},
   "source": [
    "The highest score we received on Kaggle is 90.100%. According to our analysis we can say that even there is a change in single parameter we experience a big change in accuracy, metrics, performance of model. All the other teams may used different feature extraction methods, different algorithms, hyperparameter tuning, splitting of data, normalization and boosting techniques. Due to that we are experiencing different performances on kaggle. "
   ]
  },
  {
   "cell_type": "markdown",
   "metadata": {},
   "source": [
    "# 1.4 Results Analysis"
   ]
  },
  {
   "cell_type": "markdown",
   "metadata": {},
   "source": [
    "# Runtime performance for training and testing.\n",
    "We have tried the best classifier on training and testing data and as the feature size is 784 the runtime for training and testing data is very large thus by using feature extraction methods such as PCA with components as 20 we has reduced the computation run time of both training and testing data. When compared with all the remaining algorithms, feature extraction methods, PCA with Kernel SVM wth bagging classifier is give higest accuracy and less computational time. This is because of PCA will use variance of each feature for separability remaining methods like LDA, T-SNE uses information of classes and takes more time. Gradient boosting, Decision tree takes more time due to trees depth. Any way we need to consider all the factors into account to build a model and thus we selected this model.\n",
    "\n",
    "The run time performance of training data is: 451.37 seconds\n",
    "\n",
    "The run time performance of testing data is: 537.74 seconds\n",
    "\n",
    "\n"
   ]
  },
  {
   "cell_type": "markdown",
   "metadata": {},
   "source": [
    "# Comparison of the different algorithms and parameters you tried.\n",
    "\n",
    "We have splitted the data in testing and training sets and training our model with different classifiers such as Knn, SVM, Decision tree, Random forest, Gradient Boosting. The above bar graph depicts different classifiers and accuracy values and we have also considered all the metrics scores of different classifiers such as precision, f1score, recall and confusion matrix.\n",
    "\n",
    "From the above bar graph we came to a conclusion that both random forest classifier and SVM has the best accuracy results and by using Grid Search CV(as it takes more computational time we haven’t included it in the code) we found the best parameters for Random Forest and SVM as for random forest the complexity is high, more computational power and longer training period, thus the accuracy and other metrics results of SVM are found to be the best Algorithm. \n",
    "\n",
    "We have tried different algorithms such as KNN, Random Forest, Decision Tree, Gradient Boosting, Kernel SVM, LinearSVC, etc. First, We have tried all the algorithms with their respective default parameters. Based on analysis we performed Gradient boosting, KNN is taking high computational time, low speed of convergence, metrics evaluation is also not good and classification accuracy is less than 88% when compared to Kernel SVM and Random Forest. In case of decision tree computaional time is directly proportional to number of estimators and finally its not getting better results and accuracy is less than 88%. \n",
    "\n",
    "Based on the results and analysis we have done we can say that Random forest and Kernel SVM performs better for this dataset interms of computational time, classification accuracy, confusion matrix, different metrics evaluation like F1 score, ROC curve, recall, precision and error rate. In order to select the best algorithm among them we performed optimization which is hyperparameter tuning. After performing hyperparameter tuning with different parameters on various algorithms we came to know that kernel svm is the best algorithm that fits the model having less computational time, better confusion matrix, good metrics evaluation when compared to other algorithms, better results and achieving a classification accuracy of almost 90%.\n",
    "Finally to imrove the performance and to get accuracy of model, we have selected Bagging classifier as ensemble technique.\n",
    "\n"
   ]
  },
  {
   "cell_type": "markdown",
   "metadata": {},
   "source": [
    "# Explanation of your model (algorithms, design choices, numbers of parameters)\n",
    "\n",
    "\n",
    "Why PCA\n",
    "-----------------------\n",
    "For feature extraction, we have selected PCA as best dimensionality reduction method because computational time is very less, better speed of convergence, better bias-variance trade-off, smoothness, curvature, angle and rotation when compared to different methods like T-SNE, Isomap, LDA, LLE, Laplacian Eigenmap, etc. Moreover, PCA compresses your data down to something that is more effectively modeled. This means that it will compress away highly correlated and colinear variables, a useful thing to do when trying to run models that would otherwise be sensitive to these data problems. We aslo selected n_components=20 because we are getting better accuracy, good speed of execution.\n",
    "\n",
    "Selected Algorithm, Design and about its parameters\n",
    "------------------------------------------------------------------------------\n",
    "Now we need to decrease the error rate and increase the accuracy of kernel svm model. As we all know that the parameter C in SVM classifier defines the penalty parameter of the error term. C determines the influence of the misclassification on the objective function. In order to get the better accuracy,less error rate and to select the best regularization we had done hyperparameter tuning on SVM kernel. \n",
    "\n",
    "We have took C value as 13 beacuase From the graph we could see as the C-value goes on decreasing the missclassification is increasing and accuracy decreasing. When C-value goes on increasing the missclassification is very less and getting better accuracy. So, choosing too high and too small value of C is not a good idea and we need to choose a best value of C in between them and thus we have selected 13 as best parameter. We have selected gamma as 'Auto' in order to use 1 / n_features. If gamma is 'scale' we observe far influence of a single training and there is no improvement in accuracy. As our label is multi class we have selected decision function shape as one-vs-one (‘ovo’) which is always used as multi-class strategy.\n",
    "\n",
    "Further to improve the accuracy of model we have used Baggingclassifier as ensemble technique. In that we have selected base_estimator as kernel SVM as it is the best model with good results like less computational time, better confusion matrix, better metrics evaluation, good speed of convergence. We took number of base estimators in the ensemble as 20(n_estimators=20), number of features to draw from X to train each base estimatoras max_samples=0.9, max_features=0.8 such that the computational time get decreases, speed of model and efficiency of model gets increased to maximum using this technique.\n"
   ]
  },
  {
   "cell_type": "markdown",
   "metadata": {},
   "source": [
    "# Use a ROC curve used for some method in your initial or results analysis such as exploring the impact on accuracy of some parameter.\n"
   ]
  },
  {
   "cell_type": "markdown",
   "metadata": {},
   "source": [
    "AUC-ROC curve is one of the most commonly used metrics to evaluate the performance of machine learning algorithms particularly in the cases where we have imbalanced datasets. ROC is a probability curve for different classes. A Roc curve has FPR (False Positive Rate) vs TPR (True Positive Rate)\n",
    "\n",
    "The area covered is AUC (Area under curve). The bigger the area covered, the better the machine learning models is at distinguishing the given classes. Ideal value for AUC is 1.\n",
    "\n",
    "The above graph is plotted for multiclass as we have 5 classes, we have individual ROC curve for all the 5 classes, thus for class_1 has the highest AUC value (0.98) and for class_4 has the least AUC value. AUC near to the 0 which means it has worst measure of separability.\n",
    "\n",
    "As mentioned above, When there are more than two classes, it is extremely difficult, and usually impossible, to provide realistic assessments of the relative severity of the different kinds of misclassification which can arise. This is equivalent to the probability that a randomly chosen member of one class has a smaller estimated probability of belonging to the other class than has a randomly chosen member of the other class, and so is a natural measure of separability between the two estimated probability distributions. Class_1 has the highest AUC of 0.98 and for other classes the AUC is around 0.35 to 0.5 which is much better results when compared with the ROC curve of Random Forest and as senstivity and specificity are inversely proportional by comparing each classes of Kernal SVM with each class of Random Forest we can say that Kernal SVM classes have more specificity and less senstivity when compared with Random forest.\n",
    "\n",
    "\n",
    "On concluding, ROC curve of Random forest Algorithm SVM has the best AUC curve for all the classes. If the value is greater than 0.6 then the chance of model will be able to distinguish between positive class and negative class\n"
   ]
  },
  {
   "cell_type": "markdown",
   "metadata": {},
   "source": [
    "# Evaluate your code with other metrics on the training data (by using some of it as test data) and argue for the benefit of you approach."
   ]
  },
  {
   "cell_type": "markdown",
   "metadata": {},
   "source": [
    "Different Classifier are used such as Knn, SVM, Decision Tree and Random Forest where different metrics such as f1 score, precision score, recall, support and Confusion matrix are evaluated. Confusion matrix is analysed in initial stage. Here we are going to analyse and discuss about F1score, Precision, Recall.\n",
    "1.\tF1 score:\n",
    "One popular metric which combines precision and recall is called F1-score, which is the harmonic mean of precision and recall defined as:\n",
    "F1-score= 2*Precision*Recall/(Precision+Recall)\n",
    "\n",
    "Sno:\tClassifier\tf1 score(highest)\n",
    "1\tKnn\t0.86\n",
    "2\tSVM\t0.90\n",
    "3\tDecision Tree\t0.81\n",
    "4\tRandom Forest\t0.88\n",
    "5\tGradient Boosting\t0.76\n",
    "\n",
    "2.\tPrecision:\n",
    "Therefore we need to look at class specific performance metrics too. Precision is one of such metrics, which is defined as:\n",
    "Precision= True_Positive/ (True_Positive+ False_Positive)\n",
    "\n",
    "Sno:\tClassifier\tPrecision score(highest)\n",
    "1\tKnn\t0.90\n",
    "2\tSVM\t0.93\n",
    "3\tDecision Tree\t0.89\n",
    "4\tRandom Forest\t0.92\n",
    "5\tGradient Boosting\t0.83\n",
    "\n",
    "3.\tRecall:\n",
    "Recall is another important metric, which is defined as the fraction of samples from a class which are correctly predicted by the model. More formally:\n",
    "Recall= True_Positive/ (True_Positive+ False_Negative)\n",
    "Sno:\tClassifier\tRecall(highest)\n",
    "1\tKnn\t0.91\n",
    "2\tSVM\t0.92\n",
    "3\tDecision Tree\t0.90\n",
    "4\tRandom Forest\t0.95\n",
    "5\tGradient Boosting\t0.87\n",
    "\n",
    "\n",
    "By considering the above metrics for all the classifier we can depict  that SVM has the best accuracy and metrics values when compared with all the classifiers and Works well with even unstructured and semi structured data like text, Images  and SVM models have generalization in practice, the risk of over-fitting is less in SVM and it has the property of scaling relatively well to high dimensional data.\n"
   ]
  }
 ],
 "metadata": {
  "kernelspec": {
   "display_name": "Python 3",
   "language": "python",
   "name": "python3"
  },
  "language_info": {
   "codemirror_mode": {
    "name": "ipython",
    "version": 3
   },
   "file_extension": ".py",
   "mimetype": "text/x-python",
   "name": "python",
   "nbconvert_exporter": "python",
   "pygments_lexer": "ipython3",
   "version": "3.8.2"
  }
 },
 "nbformat": 4,
 "nbformat_minor": 4
}
